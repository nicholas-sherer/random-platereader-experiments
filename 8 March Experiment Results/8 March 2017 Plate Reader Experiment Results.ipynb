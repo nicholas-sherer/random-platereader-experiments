{
 "cells": [
  {
   "cell_type": "code",
   "execution_count": 1,
   "metadata": {
    "collapsed": true
   },
   "outputs": [],
   "source": [
    "import openpyxl as pyxl\n",
    "import pandas as pd\n",
    "import numpy as np\n",
    "import matplotlib.pyplot as plt\n",
    "%matplotlib inline\n",
    "\n",
    "import string\n",
    "import copy"
   ]
  },
  {
   "cell_type": "code",
   "execution_count": 2,
   "metadata": {
    "collapsed": true
   },
   "outputs": [],
   "source": [
    "ODwb = pyxl.load_workbook(\"OD600.xlsx\")\n",
    "REDwb = pyxl.load_workbook(\"mCherryFluor.xlsx\")\n",
    "YELLOWwb = pyxl.load_workbook(\"YFPFluor.xlsx\")"
   ]
  },
  {
   "cell_type": "code",
   "execution_count": 3,
   "metadata": {
    "collapsed": false
   },
   "outputs": [],
   "source": [
    "ODsheet = ODwb[ODwb.get_sheet_names()[0]]\n",
    "REDsheet = REDwb[REDwb.get_sheet_names()[0]]\n",
    "YELLOWsheet = YELLOWwb[YELLOWwb.get_sheet_names()[0]]"
   ]
  },
  {
   "cell_type": "code",
   "execution_count": 4,
   "metadata": {
    "collapsed": true
   },
   "outputs": [],
   "source": [
    "samples = {}\n",
    "n_time = 55\n",
    "for letter in ['A', 'B', 'C', 'D', 'E', 'F']:\n",
    "    for i in [1,2,3,4,5,6,7,8]:\n",
    "        well = letter + str(i)\n",
    "        samples[well]={'OD': np.zeros(n_time), 'Red': np.zeros(n_time), 'Yellow': np.zeros(n_time)}"
   ]
  },
  {
   "cell_type": "code",
   "execution_count": 5,
   "metadata": {
    "collapsed": false
   },
   "outputs": [],
   "source": [
    "xl_data_columns = (list(string.ascii_uppercase[2:26])+\n",
    "                  list('A'+letter for letter in string.ascii_uppercase[0:24]))"
   ]
  },
  {
   "cell_type": "code",
   "execution_count": 6,
   "metadata": {
    "collapsed": false
   },
   "outputs": [],
   "source": [
    "def transfer_data(sheet, columns, dictionary, meas):\n",
    "    for col in columns:\n",
    "        letter = sheet[col+str(1)].value\n",
    "        number = sheet[col+str(2)].value\n",
    "        ref = letter + str(number)\n",
    "        index = 0\n",
    "        for i in range(4,59):\n",
    "            dictionary[ref][meas][index]=sheet[col+str(i)].value\n",
    "            index = index+1\n",
    "    return"
   ]
  },
  {
   "cell_type": "code",
   "execution_count": 12,
   "metadata": {
    "collapsed": true
   },
   "outputs": [],
   "source": [
    "transfer_data(ODsheet,xl_data_columns, samples, 'OD')\n",
    "transfer_data(REDsheet, xl_data_columns, samples, 'Red')\n",
    "transfer_data(YELLOWsheet, xl_data_columns, samples, 'Yellow')"
   ]
  },
  {
   "cell_type": "code",
   "execution_count": 13,
   "metadata": {
    "collapsed": true
   },
   "outputs": [],
   "source": [
    "samples_bgsub = copy.deepcopy(samples)"
   ]
  },
  {
   "cell_type": "code",
   "execution_count": 14,
   "metadata": {
    "collapsed": true
   },
   "outputs": [],
   "source": [
    "for key, item in samples_bgsub.items():\n",
    "    item['OD'] = item['OD'] - .99*np.min(item['OD'])\n",
    "    item['Red'] = item['Red'] - .99*np.min(item['Red'])\n",
    "    item['Yellow'] = item['Yellow'] - .99*np.min(item['Yellow'])"
   ]
  },
  {
   "cell_type": "code",
   "execution_count": 49,
   "metadata": {
    "collapsed": false
   },
   "outputs": [
    {
     "data": {
      "text/plain": [
       "[<matplotlib.lines.Line2D at 0x7f726232dac8>]"
      ]
     },
     "execution_count": 49,
     "metadata": {},
     "output_type": "execute_result"
    },
    {
     "data": {
      "image/png": "[encoded data removed]",
      "text/plain": [
       "<matplotlib.figure.Figure at 0x7f72623b5f28>"
      ]
     },
     "metadata": {},
     "output_type": "display_data"
    }
   ],
   "source": [
    "well = 'C2'\n",
    "plt.plot(samples_bgsub[well]['Yellow'][17:22],samples_bgsub[well]['Red'][17:22],'*')"
   ]
  },
  {
   "cell_type": "code",
   "execution_count": 50,
   "metadata": {
    "collapsed": false
   },
   "outputs": [
    {
     "data": {
      "text/plain": [
       "array([  1.81760000e+02,   1.20276000e+03,   1.52276000e+03,\n",
       "         4.50760000e+02,   8.10760000e+02,   4.76776000e+03,\n",
       "         3.84776000e+03,   1.33076000e+03,   3.73576000e+03,\n",
       "         3.94276000e+03,   1.83976000e+03,   4.84576000e+03,\n",
       "         4.93176000e+03,   4.07176000e+03,   5.44176000e+03,\n",
       "         7.29176000e+03,   5.25176000e+03,   5.26976000e+03,\n",
       "         6.41876000e+03,   8.88376000e+03,   9.93876000e+03,\n",
       "         1.59917600e+04,   1.79397600e+04,   2.36167600e+04,\n",
       "         3.33987600e+04,   4.00257600e+04,   4.93367600e+04,\n",
       "         5.55627600e+04,   6.30737600e+04,   8.25587600e+04,\n",
       "         1.01092760e+05,   1.35570760e+05,   1.67289760e+05,\n",
       "         2.02191760e+05,   2.42005760e+05,   2.42005760e+05,\n",
       "         2.42005760e+05,   2.42005760e+05,   2.42005760e+05,\n",
       "         2.42005760e+05,   2.42005760e+05,   2.42005760e+05,\n",
       "         2.42005760e+05,   2.42005760e+05,   2.42005760e+05,\n",
       "         2.42005760e+05,   2.42005760e+05,   2.42005760e+05,\n",
       "         2.42005760e+05,   2.42005760e+05,   2.42005760e+05,\n",
       "         2.42005760e+05,   2.42005760e+05,   2.42005760e+05,\n",
       "         2.42005760e+05])"
      ]
     },
     "execution_count": 50,
     "metadata": {},
     "output_type": "execute_result"
    }
   ],
   "source": [
    "samples_bgsub['F8']['Yellow']"
   ]
  },
  {
   "cell_type": "code",
   "execution_count": 51,
   "metadata": {
    "collapsed": false
   },
   "outputs": [
    {
     "data": {
      "text/plain": [
       "[<matplotlib.lines.Line2D at 0x7f726231d5c0>]"
      ]
     },
     "execution_count": 51,
     "metadata": {},
     "output_type": "execute_result"
    },
    {
     "data": {
      "image/png": "[encoded data removed]",
      "text/plain": [
       "<matplotlib.figure.Figure at 0x7f72623555c0>"
      ]
     },
     "metadata": {},
     "output_type": "display_data"
    }
   ],
   "source": [
    "plt.plot(samples_bgsub['C2']['Red'],'*')"
   ]
  },
  {
   "cell_type": "code",
   "execution_count": 52,
   "metadata": {
    "collapsed": true
   },
   "outputs": [],
   "source": [
    "from scipy.optimize import curve_fit"
   ]
  },
  {
   "cell_type": "code",
   "execution_count": 53,
   "metadata": {
    "collapsed": true
   },
   "outputs": [],
   "source": [
    "def exp (x, a, b, c):\n",
    "    return a*np.exp(b*x)+c"
   ]
  },
  {
   "cell_type": "code",
   "execution_count": 54,
   "metadata": {
    "collapsed": false
   },
   "outputs": [],
   "source": [
    "x = np.arange(23)*.333\n",
    "y = samples_bgsub['B2']['OD'][0:23]"
   ]
  },
  {
   "cell_type": "code",
   "execution_count": 55,
   "metadata": {
    "collapsed": false
   },
   "outputs": [],
   "source": [
    "popt, pcov = curve_fit(exp, x, y)"
   ]
  },
  {
   "cell_type": "code",
   "execution_count": 56,
   "metadata": {
    "collapsed": false
   },
   "outputs": [
    {
     "data": {
      "text/plain": [
       "array([  1.77908766e-04,   1.22947953e+00,   1.07182350e-01])"
      ]
     },
     "execution_count": 56,
     "metadata": {},
     "output_type": "execute_result"
    }
   ],
   "source": [
    "popt"
   ]
  },
  {
   "cell_type": "code",
   "execution_count": 57,
   "metadata": {
    "collapsed": true
   },
   "outputs": [],
   "source": [
    "z=np.arange(22)*.333\n",
    "w=samples_bgsub['B2']['OD'][0:22]"
   ]
  },
  {
   "cell_type": "code",
   "execution_count": 61,
   "metadata": {
    "collapsed": false
   },
   "outputs": [
    {
     "data": {
      "text/plain": [
       "[<matplotlib.lines.Line2D at 0x7f7262355d68>]"
      ]
     },
     "execution_count": 61,
     "metadata": {},
     "output_type": "execute_result"
    },
    {
     "data": {
      "image/png": "[encoded data removed]",
      "text/plain": [
       "<matplotlib.figure.Figure at 0x7f725c6379e8>"
      ]
     },
     "metadata": {},
     "output_type": "display_data"
    }
   ],
   "source": [
    "plt.plot(z,w,'r*')\n",
    "plt.plot(z,exp(np.array(z),*popt),'b-')"
   ]
  },
  {
   "cell_type": "code",
   "execution_count": 59,
   "metadata": {
    "collapsed": false
   },
   "outputs": [
    {
     "data": {
      "text/plain": [
       "0.56353429313816694"
      ]
     },
     "execution_count": 59,
     "metadata": {},
     "output_type": "execute_result"
    }
   ],
   "source": [
    "np.log(2)/1.23"
   ]
  },
  {
   "cell_type": "code",
   "execution_count": 60,
   "metadata": {
    "collapsed": false
   },
   "outputs": [
    {
     "data": {
      "text/plain": [
       "0.11429556360761424"
      ]
     },
     "execution_count": 60,
     "metadata": {},
     "output_type": "execute_result"
    }
   ],
   "source": [
    "exp(3,*popt)"
   ]
  },
  {
   "cell_type": "code",
   "execution_count": null,
   "metadata": {
    "collapsed": true
   },
   "outputs": [],
   "source": []
  }
 ],
 "metadata": {
  "kernelspec": {
   "display_name": "Python [Root]",
   "language": "python",
   "name": "Python [Root]"
  },
  "language_info": {
   "codemirror_mode": {
    "name": "ipython",
    "version": 3
   },
   "file_extension": ".py",
   "mimetype": "text/x-python",
   "name": "python",
   "nbconvert_exporter": "python",
   "pygments_lexer": "ipython3",
   "version": "3.5.3"
  }
 },
 "nbformat": 4,
 "nbformat_minor": 0
}
