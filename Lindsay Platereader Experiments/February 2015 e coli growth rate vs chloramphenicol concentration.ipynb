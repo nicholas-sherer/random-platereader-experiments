{
 "cells": [
  {
   "cell_type": "code",
   "execution_count": 4,
   "metadata": {
    "collapsed": true
   },
   "outputs": [],
   "source": [
    "import numpy as np\n",
    "import matplotlib.pyplot as plt\n",
    "%matplotlib inline"
   ]
  },
  {
   "cell_type": "code",
   "execution_count": 5,
   "metadata": {
    "collapsed": false
   },
   "outputs": [
    {
     "name": "stdout",
     "output_type": "stream",
     "text": [
      "[ 0  1  2  4  8 12 16 20 26 32 38 44 50 56 64]\n",
      "[ 1.04666667  0.95666667  0.93333333  0.91666667  0.88        0.76333333\n",
      "  0.81        0.62666667  0.6         0.49        0.47        0.49\n",
      "  0.33333333  0.3         0.33666667]\n",
      "[ 0.04496913  0.05792716  0.03399346  0.03091206  0.02160247  0.07586538\n",
      "  0.0294392   0.04109609  0.0244949   0.03741657  0.00816497  0.03741657\n",
      "  0.04109609  0.04966555  0.03091206]\n"
     ]
    }
   ],
   "source": [
    "concentrations = np.array([0, 1, 2, 4, 8, 12, 16, 20, 26, 32, 38, 44, 50 ,56, 64])\n",
    "results = np.array([[.99,.97,.92,.96,.85,.87,.78,.58,.57,.44,.47,.45,.34,.37,.38],\n",
    "                   [1.05,.88,.90,.89,.89,.70,.85,.68,.63,.50,.46,.48,.38,.26,.31],\n",
    "                   [1.1,1.02,.98,.90,.90,.72,.80,.62,.60,.53,.48,.54,.28,.27,.32]])\n",
    "results_mean = np.mean(results,axis=0)\n",
    "results_std = np.std(results,axis=0)\n",
    "print(concentrations)\n",
    "print(results_mean)\n",
    "print(results_std)"
   ]
  },
  {
   "cell_type": "code",
   "execution_count": 15,
   "metadata": {
    "collapsed": false
   },
   "outputs": [
    {
     "data": {
      "text/plain": [
       "<Container object of 3 artists>"
      ]
     },
     "execution_count": 15,
     "metadata": {},
     "output_type": "execute_result"
    },
    {
     "data": {
      "image/png": "[encoded data removed]",
      "text/plain": [
       "<matplotlib.figure.Figure at 0x7fe11c7f4748>"
      ]
     },
     "metadata": {},
     "output_type": "display_data"
    }
   ],
   "source": [
    "plt.errorbar(concentrations, results_mean, results_std, linewidth=1)"
   ]
  },
  {
   "cell_type": "code",
   "execution_count": null,
   "metadata": {
    "collapsed": true
   },
   "outputs": [],
   "source": []
  }
 ],
 "metadata": {
  "kernelspec": {
   "display_name": "Python [py36]",
   "language": "python",
   "name": "Python [py36]"
  },
  "language_info": {
   "codemirror_mode": {
    "name": "ipython",
    "version": 3
   },
   "file_extension": ".py",
   "mimetype": "text/x-python",
   "name": "python",
   "nbconvert_exporter": "python",
   "pygments_lexer": "ipython3",
   "version": "3.6.1"
  }
 },
 "nbformat": 4,
 "nbformat_minor": 0
}
