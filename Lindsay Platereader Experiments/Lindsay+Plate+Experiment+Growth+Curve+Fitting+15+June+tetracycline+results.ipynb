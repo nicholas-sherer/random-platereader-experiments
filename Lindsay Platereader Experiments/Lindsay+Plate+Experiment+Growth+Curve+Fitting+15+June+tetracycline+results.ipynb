{
 "cells": [
  {
   "cell_type": "code",
   "execution_count": 1,
   "metadata": {
    "collapsed": true
   },
   "outputs": [],
   "source": [
    "from collections import OrderedDict\n",
    "import csv\n",
    "import IPython.display as ipyd\n",
    "import ipywidgets as ipyw\n",
    "import matplotlib.pyplot as plt\n",
    "%matplotlib inline\n",
    "import numpy as np\n",
    "import openpyxl as pyxl\n",
    "import os\n",
    "import string\n",
    "\n",
    "\n",
    "def iter_rows(ws):\n",
    "    '''Return the rows of an excel sheet as lists'''\n",
    "    for row in ws.iter_rows():\n",
    "        yield [cell.value for cell in row]\n",
    "\n",
    "def subtractBaselineAndLog(array):\n",
    "    '''Subtract the optical density due to the media itself and take the logarithm of the optical density\n",
    "       so that a line can be fit to the growth curve to find the growth rate'''\n",
    "    return np.log(array - .99*np.min(array))\n",
    "\n",
    "def windowedLineFit(x,y,start,stop):\n",
    "    '''Fit a line to a portion of some data stored in arrays'''\n",
    "    m, b = np.polyfit(x[start:stop],y[start:stop],1)\n",
    "    return m, b\n",
    "\n",
    "def growthRateToDoublingTime(r):\n",
    "    '''Formula for the time it takes an e. coli cell to divide once given the exponential growth rate'''\n",
    "    return np.log(2)/r\n",
    "\n",
    "def loadFits(file):\n",
    "    '''\n",
    "    Load the fitting parameters for a platereader experiment from a .csv file\n",
    "    '''\n",
    "    time_ranges = OrderedDict()\n",
    "    growth_fits = OrderedDict()\n",
    "    with open(file) as csvfile:\n",
    "        reader = csv.reader(csvfile, delimiter=',')\n",
    "        first_row = True\n",
    "        for row in reader:\n",
    "            if not first_row:\n",
    "                time_ranges[row[0]] = (float(row[3]),float(row[4]))\n",
    "                growth_fits[row[0]] = (float(row[1]),float(row[2]))\n",
    "            first_row = False\n",
    "    return time_ranges, growth_fits\n",
    "\n",
    "\n",
    "class manualGrowthFitter(object):\n",
    "    '''\n",
    "    Handle manually fitting lines to the logarithm of the OD minus the OD at 0 population.\n",
    "    '''\n",
    "    \n",
    "    \n",
    "    def __init__(self, times, wells_dict, figure_size = (16,16), load_time_ranges=None,\n",
    "                 load_growth_fits=None):\n",
    "        self.times = times\n",
    "        self.wells_dict = wells_dict\n",
    "        self.figure_size = figure_size\n",
    "        if load_time_ranges is None:\n",
    "            self.time_ranges = OrderedDict()\n",
    "            for key in self.wells_dict.keys():\n",
    "                self.time_ranges[key] = (times[0], times[-1])\n",
    "        else:\n",
    "            self.time_ranges = load_time_ranges\n",
    "        if load_growth_fits is None:\n",
    "            self.growth_fits = OrderedDict()\n",
    "            for key in self.wells_dict.keys():\n",
    "                self.growth_fits[key] = windowedLineFit(self.times,\n",
    "                                                        subtractBaselineAndLog(self.wells_dict[key]),\n",
    "                                                        0,-1)\n",
    "        else:\n",
    "            self.growth_fits = load_growth_fits\n",
    "        \n",
    "        sorted_keys = list([key for key in wells_dict])\n",
    "        sorted_keys.sort()\n",
    "        self.well_select = ipyw.Dropdown(options=sorted_keys, description = 'well')\n",
    "        self.time_slider = ipyw.FloatRangeSlider(value=[times[0],times[-1]], min=times[0],\n",
    "                                               max=times[-1], step=times[1]-times[0],\n",
    "                                               description='time (hours)',\n",
    "                                               continuous_update=False)\n",
    "        self.box=ipyw.VBox()\n",
    "        self.box.children=[self.well_select, self.time_slider]\n",
    "        self.updatePlots(self.well_select.value, self.time_slider.value)\n",
    "        \n",
    "        def onWellChange(well):\n",
    "            old_t_value = self.time_slider.value\n",
    "            self.time_slider.value = self.time_ranges[well]\n",
    "            if old_t_value == self.time_slider.value:\n",
    "                self.updatePlots(well, self.time_slider.value)\n",
    "        \n",
    "        def onTimeChange(times):\n",
    "            well = self.well_select.value\n",
    "            self.time_ranges[well]=times\n",
    "            t_start = np.where(np.abs(self.times-times[0])<=(self.times[1]-self.times[0])/4)[0][0]\n",
    "            t_end = np.where(np.abs(self.times-times[1])<=(self.times[1]-self.times[0])/4)[0][0]\n",
    "            self.growth_fits[well]=windowedLineFit(self.times,subtractBaselineAndLog(self.wells_dict[well]),\n",
    "                                                   t_start,t_end)\n",
    "            self.updatePlots(well, times)\n",
    "        \n",
    "        ipyw.interactive(onWellChange, well=self.well_select)\n",
    "        ipyw.interactive(onTimeChange, times=self.time_slider)\n",
    "\n",
    "\n",
    "    def updatePlots(self, well, times):\n",
    "        '''\n",
    "        Update plots to display the data from the well and the best fit line for exponential growth\n",
    "        '''\n",
    "        fig = plt.figure(figsize=self.figure_size)\n",
    "        subplot = fig.add_subplot(111)\n",
    "        subplot.plot(self.times,subtractBaselineAndLog(self.wells_dict[well]),'*')\n",
    "        t_start = np.where(np.abs(self.times-times[0])<=(self.times[1]-self.times[0])/2)[0][0]\n",
    "        t_end = np.where(np.abs(self.times-times[1])<=(self.times[1]-self.times[0])/2)[0][0]\n",
    "        print(t_start, t_end)\n",
    "        fit_times = self.times[t_start:t_end]\n",
    "        m = self.growth_fits[well][0]\n",
    "        b = self.growth_fits[well][1]\n",
    "        subplot.plot(fit_times,m*fit_times+b,'r')\n",
    "        subplot.legend(['data', 'fit r= {:4.3f}'.format(m)])\n",
    "        subplot.set_xlabel('time (hours)')\n",
    "        subplot.set_ylabel('log(OD-baseline)')"
   ]
  },
  {
   "cell_type": "code",
   "execution_count": 2,
   "metadata": {
    "collapsed": false,
    "scrolled": true
   },
   "outputs": [
    {
     "name": "stdout",
     "output_type": "stream",
     "text": [
      "60 76\n"
     ]
    },
    {
     "data": {
      "image/png": "[encoded data removed]",
      "text/plain": [
       "<matplotlib.figure.Figure at 0x7fb9e8c7e390>"
      ]
     },
     "metadata": {},
     "output_type": "display_data"
    }
   ],
   "source": [
    "os.chdir('/home/kuhlmanlab/Documents/platereader_experiments/Lindsay Platereader Experiments/')\n",
    "excel_filename = \"15 June 2017 MG1655 Tetracycline.xlsx\"\n",
    "excel_workbook = pyxl.load_workbook(excel_filename)\n",
    "excel_sheet = excel_workbook[excel_workbook.get_sheet_names()[0]]\n",
    "\n",
    "data = list(iter_rows(excel_sheet))\n",
    "times = np.array([float(value.strip('s'))/3600 #divide by 3600 to convert seconds to hours\n",
    "                  for value in data[0]]) \n",
    "temperatures = np.array([float(value.strip(' \\xc2\\xb0\\C')) #to get numbers out need to remove the units\n",
    "                         for value in data[1]])\n",
    "wells = [np.array([value for value in data[i]]) for i in range(2,26)]\n",
    "\n",
    "wells_dict = OrderedDict()\n",
    "j=0\n",
    "for letter in ['A', 'B', 'C', 'D']:\n",
    "    for i in range(1,7):\n",
    "        wells_dict[letter+str(i)]=wells[j]\n",
    "        j=j+1\n",
    "\n",
    "growth_results_filename = excel_filename.strip('.xslx') + ' results.csv'\n",
    "try:\n",
    "    load_time_ranges, load_growth_fits = loadFits(growth_results_filename)\n",
    "except FileNotFoundError:\n",
    "    load_time_ranges = None\n",
    "    load_growth_fits = None\n",
    "\n",
    "GROAR = manualGrowthFitter(times, wells_dict, (16,16), load_time_ranges, load_growth_fits)\n",
    "ipyd.display(GROAR.box)"
   ]
  },
  {
   "cell_type": "code",
   "execution_count": 3,
   "metadata": {
    "collapsed": false
   },
   "outputs": [
    {
     "name": "stdout",
     "output_type": "stream",
     "text": [
      "True\n"
     ]
    }
   ],
   "source": [
    "with open(growth_results_filename,'w') as gf_writes:\n",
    "    gf_writes.write('well,growth_rate,intercept,time_fit_start,time_fit end\\n')\n",
    "    for key, value in GROAR.growth_fits.items():\n",
    "        gf_writes.write(key + ',' + str(value[0]) + ',' + str(value[1]) + ','\n",
    "                        + str(GROAR.time_ranges[key][0]) + ',' + str(GROAR.time_ranges[key][1]) + '\\n')\n",
    "print(gf_writes.closed)"
   ]
  },
  {
   "cell_type": "code",
   "execution_count": null,
   "metadata": {
    "collapsed": true
   },
   "outputs": [],
   "source": []
  }
 ],
 "metadata": {
  "kernelspec": {
   "display_name": "Python [Root]",
   "language": "python",
   "name": "Python [Root]"
  },
  "language_info": {
   "codemirror_mode": {
    "name": "ipython",
    "version": 3
   },
   "file_extension": ".py",
   "mimetype": "text/x-python",
   "name": "python",
   "nbconvert_exporter": "python",
   "pygments_lexer": "ipython3",
   "version": "3.5.3"
  },
  "widgets": {
   "state": {
    "9fda4f0cf6eb45779ca0d575ebb18113": {
     "views": [
      {
       "cell_index": 1
      }
     ]
    }
   },
   "version": "1.2.0"
  }
 },
 "nbformat": 4,
 "nbformat_minor": 0
}
