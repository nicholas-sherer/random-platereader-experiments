{
 "cells": [
  {
   "cell_type": "code",
   "execution_count": 1,
   "metadata": {
    "collapsed": true
   },
   "outputs": [],
   "source": [
    "import openpyxl as pyxl\n",
    "# import pandas as pd\n",
    "import numpy as np\n",
    "import matplotlib.pyplot as plt\n",
    "%matplotlib inline\n",
    "\n",
    "import string\n",
    "import copy"
   ]
  },
  {
   "cell_type": "code",
   "execution_count": 2,
   "metadata": {
    "collapsed": false
   },
   "outputs": [],
   "source": [
    "ODwb = pyxl.load_workbook(\"15Feb2017 ME007 PJK14spec mCherryMutH OD.xlsx\")\n",
    "REDwb = pyxl.load_workbook(\"15Feb2017 ME007 PJK14spec mCherryMutH mCherry fluorescence.xlsx\")\n",
    "GREENwb = pyxl.load_workbook(\"15Feb2017 ME007 PJK14spec mCherryMutH GFP fluorescence.xlsx\")"
   ]
  },
  {
   "cell_type": "code",
   "execution_count": 3,
   "metadata": {
    "collapsed": false
   },
   "outputs": [],
   "source": [
    "ODsheet = ODwb[ODwb.get_sheet_names()[0]]\n",
    "REDsheet = REDwb[REDwb.get_sheet_names()[0]]\n",
    "GREENsheet = GREENwb[GREENwb.get_sheet_names()[0]]"
   ]
  },
  {
   "cell_type": "code",
   "execution_count": 4,
   "metadata": {
    "collapsed": true
   },
   "outputs": [],
   "source": [
    "samples = {}\n",
    "aTc_conc = np.array([0, 10, 20, 40, 60, 100])\n",
    "for letter in ['A', 'B', 'C', 'D']:\n",
    "    for i in [1,2,3,4,5,6]:\n",
    "        well = letter + str(i)\n",
    "        samples[well]={'aTc': aTc_conc[i-1], 'OD': np.zeros(60), 'Red': np.zeros(60), 'Green': np.zeros(60)}"
   ]
  },
  {
   "cell_type": "code",
   "execution_count": 5,
   "metadata": {
    "collapsed": false
   },
   "outputs": [],
   "source": [
    "xl_data_columns = list(string.ascii_uppercase[2:27])"
   ]
  },
  {
   "cell_type": "code",
   "execution_count": 6,
   "metadata": {
    "collapsed": true
   },
   "outputs": [],
   "source": [
    "def transfer_data(sheet, columns, dictionary, meas):\n",
    "    for col in columns:\n",
    "        letter = sheet[col+str(1)].value\n",
    "        number = sheet[col+str(2)].value\n",
    "        ref = letter + str(number)\n",
    "        index = 0\n",
    "        for i in range(4,64):\n",
    "            dictionary[ref][meas][index]=sheet[col+str(i)].value\n",
    "            index = index+1\n",
    "    return"
   ]
  },
  {
   "cell_type": "code",
   "execution_count": 7,
   "metadata": {
    "collapsed": false
   },
   "outputs": [],
   "source": [
    "transfer_data(ODsheet,xl_data_columns, samples, 'OD')\n",
    "transfer_data(REDsheet, xl_data_columns, samples, 'Red')\n",
    "transfer_data(GREENsheet, xl_data_columns, samples, 'Green')"
   ]
  },
  {
   "cell_type": "code",
   "execution_count": 8,
   "metadata": {
    "collapsed": false
   },
   "outputs": [],
   "source": [
    "samples_bgsub = copy.deepcopy(samples)"
   ]
  },
  {
   "cell_type": "code",
   "execution_count": 9,
   "metadata": {
    "collapsed": false
   },
   "outputs": [],
   "source": [
    "for key, item in samples_bgsub.items():\n",
    "    item['OD'] = item['OD'] - .99*np.min(item['OD'])\n",
    "    item['Red'] = item['Red'] - .99*np.min(item['Red'])\n",
    "    item['Green'] = item['Green'] - .99*np.min(item['Green'])"
   ]
  },
  {
   "cell_type": "code",
   "execution_count": 10,
   "metadata": {
    "collapsed": false
   },
   "outputs": [
    {
     "data": {
      "text/plain": [
       "[<matplotlib.lines.Line2D at 0x7fc2305c6940>]"
      ]
     },
     "execution_count": 10,
     "metadata": {},
     "output_type": "execute_result"
    },
    {
     "data": {
      "image/png": "[encoded data removed]",
      "text/plain": [
       "<matplotlib.figure.Figure at 0x7fc233989f60>"
      ]
     },
     "metadata": {},
     "output_type": "display_data"
    }
   ],
   "source": [
    "plt.plot(samples_bgsub['A2']['OD'][40:48],samples_bgsub['A4']['Red'][40:48],'*')"
   ]
  },
  {
   "cell_type": "code",
   "execution_count": 11,
   "metadata": {
    "collapsed": false
   },
   "outputs": [
    {
     "data": {
      "text/plain": [
       "[<matplotlib.lines.Line2D at 0x7fc23053a978>]"
      ]
     },
     "execution_count": 11,
     "metadata": {},
     "output_type": "execute_result"
    },
    {
     "data": {
      "image/png": "[encoded data removed]",
      "text/plain": [
       "<matplotlib.figure.Figure at 0x7fc230577eb8>"
      ]
     },
     "metadata": {},
     "output_type": "display_data"
    }
   ],
   "source": [
    "plt.plot(samples_bgsub['A2']['Red'],'*')"
   ]
  },
  {
   "cell_type": "code",
   "execution_count": 12,
   "metadata": {
    "collapsed": false
   },
   "outputs": [
    {
     "data": {
      "text/plain": [
       "[<matplotlib.lines.Line2D at 0x7fc2304f22b0>]"
      ]
     },
     "execution_count": 12,
     "metadata": {},
     "output_type": "execute_result"
    },
    {
     "data": {
      "image/png": "[encoded data removed]",
      "text/plain": [
       "<matplotlib.figure.Figure at 0x7fc2304e21d0>"
      ]
     },
     "metadata": {},
     "output_type": "display_data"
    }
   ],
   "source": [
    "plt.semilogy(samples_bgsub['A2']['OD'],'*')"
   ]
  },
  {
   "cell_type": "code",
   "execution_count": 13,
   "metadata": {
    "collapsed": true
   },
   "outputs": [],
   "source": [
    "samples_expphase = copy.deepcopy(samples_bgsub)"
   ]
  },
  {
   "cell_type": "code",
   "execution_count": 14,
   "metadata": {
    "collapsed": true
   },
   "outputs": [],
   "source": [
    "for key, item in samples_expphase.items():\n",
    "    item['OD'] = item['OD'][40:50]\n",
    "    item['Red'] = item['Red'][40:50]\n",
    "    item['Green'] = item['Green'][40:50]"
   ]
  },
  {
   "cell_type": "code",
   "execution_count": 15,
   "metadata": {
    "collapsed": true
   },
   "outputs": [],
   "source": [
    "def slopefind(x,y):\n",
    "    A = np.vstack([x,np.ones_like(x)]).T\n",
    "    m, c = np.linalg.lstsq(A,y)[0]\n",
    "    return m, c"
   ]
  },
  {
   "cell_type": "code",
   "execution_count": 16,
   "metadata": {
    "collapsed": false
   },
   "outputs": [],
   "source": [
    "red_per_cell = np.zeros((4,6))\n",
    "for letter in 'ABCD':\n",
    "    for i in range(1,7):\n",
    "        row = string.ascii_uppercase.index(letter)\n",
    "        column = i - 1\n",
    "        well = letter + str(i)\n",
    "        red_per_cell[row,column] = slopefind(samples_expphase[well]['OD'],samples_expphase[well]['Red'])[0]\n"
   ]
  },
  {
   "cell_type": "code",
   "execution_count": 17,
   "metadata": {
    "collapsed": false
   },
   "outputs": [
    {
     "data": {
      "text/plain": [
       "array([[   556.,  12584.,  24120.,  57334.,  63174.,  82145.],\n",
       "       [ -2886.,   7536.,  17109.,  48840.,  68824.,  78430.],\n",
       "       [ -3407.,  11701.,  27027.,  51461.,  59867.,  79022.],\n",
       "       [ -7724.,   9558.,  22679.,  48056.,  69600.,  79163.]])"
      ]
     },
     "execution_count": 17,
     "metadata": {},
     "output_type": "execute_result"
    }
   ],
   "source": [
    "np.set_printoptions(precision=0)\n",
    "red_per_cell"
   ]
  },
  {
   "cell_type": "code",
   "execution_count": 18,
   "metadata": {
    "collapsed": false
   },
   "outputs": [
    {
     "data": {
      "text/plain": [
       "[<matplotlib.lines.Line2D at 0x7fc23004b7b8>]"
      ]
     },
     "execution_count": 18,
     "metadata": {},
     "output_type": "execute_result"
    },
    {
     "data": {
      "image/png": "[encoded data removed]",
      "text/plain": [
       "<matplotlib.figure.Figure at 0x7fc230093278>"
      ]
     },
     "metadata": {},
     "output_type": "display_data"
    }
   ],
   "source": [
    "plt.plot(samples_bgsub['D2']['OD'][40:48],samples_bgsub['D2']['Red'][40:48],'*')"
   ]
  },
  {
   "cell_type": "code",
   "execution_count": 19,
   "metadata": {
    "collapsed": false
   },
   "outputs": [
    {
     "name": "stdout",
     "output_type": "stream",
     "text": [
      "Mean mutH expression is  [ -3365.  10345.  22734.  51423.  65366.  79690.] .\n",
      "The standard deviation of mutH expression is  [ 2941.  1960.  3605.  3638.  4029.  1444.] .\n"
     ]
    }
   ],
   "source": [
    "mean_mutH = np.mean(red_per_cell,0)\n",
    "std_mutH = np.std(red_per_cell,0)\n",
    "print('Mean mutH expression is ', mean_mutH, '.')\n",
    "print('The standard deviation of mutH expression is ', std_mutH, '.')"
   ]
  },
  {
   "cell_type": "code",
   "execution_count": 20,
   "metadata": {
    "collapsed": false
   },
   "outputs": [
    {
     "name": "stdout",
     "output_type": "stream",
     "text": [
      "847.74552706\n",
      "5201.78074478\n"
     ]
    }
   ],
   "source": [
    "m, c = slopefind(aTc_conc, mean_mutH)\n",
    "print(m)\n",
    "print(c)"
   ]
  },
  {
   "cell_type": "code",
   "execution_count": 21,
   "metadata": {
    "collapsed": false
   },
   "outputs": [
    {
     "data": {
      "text/plain": [
       "<matplotlib.text.Text at 0x7fc2303c5b38>"
      ]
     },
     "execution_count": 21,
     "metadata": {},
     "output_type": "execute_result"
    },
    {
     "data": {
      "image/png": "[encoded data removed]",
      "text/plain": [
       "<matplotlib.figure.Figure at 0x7fc230001e10>"
      ]
     },
     "metadata": {},
     "output_type": "display_data"
    }
   ],
   "source": [
    "fig = plt.figure(figsize=(12,8))\n",
    "axes = fig.add_subplot(111)\n",
    "axes.errorbar(aTc_conc,mean_mutH,yerr=std_mutH, fmt='*')\n",
    "axes.set_xlim([-1,101])\n",
    "axes.plot(aTc_conc, m*aTc_conc+c, 'r-')\n",
    "axes.set_xlabel('aTc (ng per ml)')\n",
    "axes.set_ylabel('MutH per cell (au)')"
   ]
  },
  {
   "cell_type": "code",
   "execution_count": 22,
   "metadata": {
    "collapsed": false
   },
   "outputs": [
    {
     "data": {
      "text/plain": [
       "<matplotlib.text.Text at 0x7fc23006ad30>"
      ]
     },
     "execution_count": 22,
     "metadata": {},
     "output_type": "execute_result"
    },
    {
     "data": {
      "image/png": "[encoded data removed]",
      "text/plain": [
       "<matplotlib.figure.Figure at 0x7fc2303ca4a8>"
      ]
     },
     "metadata": {},
     "output_type": "display_data"
    }
   ],
   "source": [
    "fig2 = plt.figure(figsize=(12,8))\n",
    "axes2 = fig2.add_subplot(111)\n",
    "axes2.loglog([.1,10,20,40,60,100],mean_mutH,'*')\n",
    "axes2.loglog([.1,10,20,40,60,100], m*aTc_conc+c,'r-')\n",
    "axes2.set_xlabel('aTc (ng per ml)')\n",
    "axes2.set_ylabel('MutH per cell (au)')"
   ]
  },
  {
   "cell_type": "code",
   "execution_count": 23,
   "metadata": {
    "collapsed": true
   },
   "outputs": [],
   "source": [
    "fig.savefig('MutH per cell vs aTc.png')"
   ]
  },
  {
   "cell_type": "code",
   "execution_count": 24,
   "metadata": {
    "collapsed": false
   },
   "outputs": [],
   "source": [
    "fig2.savefig('MutH per cell vs aTc on a log scale.png')"
   ]
  },
  {
   "cell_type": "code",
   "execution_count": 25,
   "metadata": {
    "collapsed": true
   },
   "outputs": [],
   "source": [
    "t = np.array(list(range(0,1200,20)))"
   ]
  },
  {
   "cell_type": "code",
   "execution_count": 26,
   "metadata": {
    "collapsed": true
   },
   "outputs": [],
   "source": [
    "growth_rate = np.zeros((4,6))\n",
    "for letter in 'ABCD':\n",
    "    for i in range(1,7):\n",
    "        row = string.ascii_uppercase.index(letter)\n",
    "        column = i - 1\n",
    "        well = letter + str(i)\n",
    "        growth_rate[row,column] = slopefind(t[40:50],np.log(samples_expphase[well]['OD']))[0]\n"
   ]
  },
  {
   "cell_type": "code",
   "execution_count": 27,
   "metadata": {
    "collapsed": false
   },
   "outputs": [
    {
     "data": {
      "text/plain": [
       "[<matplotlib.lines.Line2D at 0x7fc22ff43a20>]"
      ]
     },
     "execution_count": 27,
     "metadata": {},
     "output_type": "execute_result"
    },
    {
     "data": {
      "image/png": "[encoded data removed]",
      "text/plain": [
       "<matplotlib.figure.Figure at 0x7fc22ffc9a58>"
      ]
     },
     "metadata": {},
     "output_type": "display_data"
    }
   ],
   "source": [
    "plt.plot(t[40:50],np.log(samples_expphase['A1']['OD']),'*')"
   ]
  },
  {
   "cell_type": "code",
   "execution_count": 28,
   "metadata": {
    "collapsed": false
   },
   "outputs": [
    {
     "data": {
      "text/plain": [
       "array([[ 0.0117,  0.0128,  0.0127,  0.0126,  0.0115,  0.0114],\n",
       "       [ 0.0133,  0.0118,  0.0115,  0.0104,  0.0119,  0.0117],\n",
       "       [ 0.0109,  0.0104,  0.0124,  0.0126,  0.0118,  0.015 ],\n",
       "       [ 0.0099,  0.0119,  0.0132,  0.0124,  0.0115,  0.0139]])"
      ]
     },
     "execution_count": 28,
     "metadata": {},
     "output_type": "execute_result"
    }
   ],
   "source": [
    "np.set_printoptions(precision=4)\n",
    "growth_rate"
   ]
  },
  {
   "cell_type": "code",
   "execution_count": 29,
   "metadata": {
    "collapsed": false
   },
   "outputs": [
    {
     "name": "stdout",
     "output_type": "stream",
     "text": [
      "The doubling time of these cells in M63 glucose is 57.7622650467 minutes.\n"
     ]
    }
   ],
   "source": [
    "print('The doubling time of these cells in M63 glucose is', np.log(2)/.012, 'minutes.')"
   ]
  },
  {
   "cell_type": "code",
   "execution_count": 30,
   "metadata": {
    "collapsed": true
   },
   "outputs": [],
   "source": [
    "green_per_cell = np.zeros((4,6))\n",
    "for letter in 'ABCD':\n",
    "    for i in range(1,7):\n",
    "        row = string.ascii_uppercase.index(letter)\n",
    "        column = i - 1\n",
    "        well = letter + str(i)\n",
    "        green_per_cell[row,column] = slopefind(samples_expphase[well]['OD'],samples_expphase[well]['Green'])[0]"
   ]
  },
  {
   "cell_type": "code",
   "execution_count": 31,
   "metadata": {
    "collapsed": false
   },
   "outputs": [
    {
     "data": {
      "text/plain": [
       "array([[ 20389.,  20458.,  23416.,  20338.,  20493.,  21844.],\n",
       "       [ 19006.,  14689.,  16424.,  16678.,  18940.,  19785.],\n",
       "       [ 17546.,  16508.,  18818.,  17777.,  20110.,  20343.],\n",
       "       [ 17060.,  17209.,  19052.,  19571.,  22008.,  21286.]])"
      ]
     },
     "execution_count": 31,
     "metadata": {},
     "output_type": "execute_result"
    }
   ],
   "source": [
    "np.set_printoptions(precision=0)\n",
    "green_per_cell"
   ]
  },
  {
   "cell_type": "code",
   "execution_count": 32,
   "metadata": {
    "collapsed": false
   },
   "outputs": [
    {
     "data": {
      "text/plain": [
       "array([ 18500.,  17216.,  19427.,  18591.,  20388.,  20815.])"
      ]
     },
     "execution_count": 32,
     "metadata": {},
     "output_type": "execute_result"
    }
   ],
   "source": [
    "np.mean(green_per_cell,0)"
   ]
  },
  {
   "cell_type": "code",
   "execution_count": 33,
   "metadata": {
    "collapsed": false
   },
   "outputs": [
    {
     "data": {
      "text/plain": [
       "array([ 1305.,  2086.,  2522.,  1444.,  1097.,   801.])"
      ]
     },
     "execution_count": 33,
     "metadata": {},
     "output_type": "execute_result"
    }
   ],
   "source": [
    "np.std(green_per_cell,0)"
   ]
  },
  {
   "cell_type": "code",
   "execution_count": null,
   "metadata": {
    "collapsed": true
   },
   "outputs": [],
   "source": []
  }
 ],
 "metadata": {
  "anaconda-cloud": {},
  "kernelspec": {
   "display_name": "Python [Root]",
   "language": "python",
   "name": "Python [Root]"
  },
  "language_info": {
   "codemirror_mode": {
    "name": "ipython",
    "version": 3
   },
   "file_extension": ".py",
   "mimetype": "text/x-python",
   "name": "python",
   "nbconvert_exporter": "python",
   "pygments_lexer": "ipython3",
   "version": "3.5.3"
  }
 },
 "nbformat": 4,
 "nbformat_minor": 0
}
